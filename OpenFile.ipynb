{
  "nbformat": 4,
  "nbformat_minor": 0,
  "metadata": {
    "colab": {
      "name": "Untitled1.ipynb",
      "provenance": [],
      "include_colab_link": true
    },
    "kernelspec": {
      "name": "python3",
      "display_name": "Python 3"
    }
  },
  "cells": [
    {
      "cell_type": "markdown",
      "metadata": {
        "id": "view-in-github",
        "colab_type": "text"
      },
      "source": [
        "<a href=\"https://colab.research.google.com/github/farajkhah/amir-mahdi/blob/master/OpenFile.ipynb\" target=\"_parent\"><img src=\"https://colab.research.google.com/assets/colab-badge.svg\" alt=\"Open In Colab\"/></a>"
      ]
    },
    {
      "cell_type": "markdown",
      "metadata": {
        "id": "4P5hV53Hnn7Y",
        "colab_type": "text"
      },
      "source": [
        "import defr as d\n",
        "print(d.amir_axx())\n",
        "\n",
        "t=input('Enter your file name:')\n",
        "\n",
        "y=input('Enter action(w / a / r and file Type(b: binary t: text):')\n",
        "file1=open(t,y)\n",
        "\n",
        "u=input('What action do you whant to do with file(read / append  / write?:')\n",
        "wi=\"write\" \n",
        "ai=\"append\" \n",
        "ri=\"read\"\n",
        "\n",
        "if u==wi:\n",
        "    o=input('Enter your content to write in file:')\n",
        "    file1.write(o)\n",
        "    print(\"Finished\")\n",
        "if u==ai:\n",
        "    o=input('Enter your content to apend to file:')\n",
        "    file1.append(o)\n",
        "    print(\"finished\")\n",
        "if u==ri:\n",
        "    print('file content:\\n')\n",
        "    print(file1.readline())\n",
        "\n",
        "\n",
        "file1.close()\n"
      ]
    },
    {
      "cell_type": "code",
      "metadata": {
        "id": "ViXgmu5XnqQM",
        "colab_type": "code",
        "colab": {}
      },
      "source": [
        ""
      ],
      "execution_count": 0,
      "outputs": []
    }
  ]
}